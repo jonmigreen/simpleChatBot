{
  "nbformat": 4,
  "nbformat_minor": 0,
  "metadata": {
    "colab": {
      "provenance": [],
      "authorship_tag": "ABX9TyM8ZbvEcYQRaZOkOQE+Xw2L",
      "include_colab_link": true
    },
    "kernelspec": {
      "name": "python3",
      "display_name": "Python 3"
    },
    "language_info": {
      "name": "python"
    }
  },
  "cells": [
    {
      "cell_type": "markdown",
      "metadata": {
        "id": "view-in-github",
        "colab_type": "text"
      },
      "source": [
        "<a href=\"https://colab.research.google.com/github/jonmigreen/simpleChatBot/blob/main/chatbot1.ipynb\" target=\"_parent\"><img src=\"https://colab.research.google.com/assets/colab-badge.svg\" alt=\"Open In Colab\"/></a>"
      ]
    },
    {
      "cell_type": "code",
      "source": [
        "!pip install -q openai==1.1.1\n",
        "!pip install -q panel"
      ],
      "metadata": {
        "id": "1C1liMrGJuJN"
      },
      "execution_count": null,
      "outputs": []
    },
    {
      "cell_type": "code",
      "source": [
        "import openai\n",
        "import panel as pn\n",
        "\n",
        "# Add api key from openai\n",
        "openai.api_key=\"API-KEY\"\n",
        "model = \"gpt-4o-mini\""
      ],
      "metadata": {
        "id": "-8CSUdohJ5lT"
      },
      "execution_count": null,
      "outputs": []
    },
    {
      "cell_type": "code",
      "source": [
        "#This function will receive the different messages in the conversation,\n",
        "#and call OpenAI passing the full conversartion.\n",
        "def continue_conversation(messages, temperature=0):\n",
        "    response = openai.chat.completions.create(\n",
        "        model=model,\n",
        "        messages=messages,\n",
        "        temperature=temperature,\n",
        "    )\n",
        "    return response.choices[0].message.content"
      ],
      "metadata": {
        "id": "m8Qsrz-7KASz"
      },
      "execution_count": null,
      "outputs": []
    },
    {
      "cell_type": "code",
      "source": [
        "def add_prompts_conversation(_):\n",
        "    #Get the value introduced by the user\n",
        "    prompt = client_prompt.value_input\n",
        "    client_prompt.value = ''\n",
        "\n",
        "    #Append to the context the User promnopt.\n",
        "    context.append({'role':'user', 'content':f\"{prompt}\"})\n",
        "\n",
        "    #Get the response.\n",
        "    response = continue_conversation(context)\n",
        "\n",
        "    #Add the response to the context.\n",
        "    context.append({'role':'assistant', 'content':f\"{response}\"})\n",
        "\n",
        "    #Update the panels to show the conversation.\n",
        "    panels.append(\n",
        "        pn.Row('User:', pn.pane.Markdown(prompt, width=600)))\n",
        "    panels.append(\n",
        "        pn.Row('Assistant:', pn.pane.Markdown(response, width=600)))\n",
        "\n",
        "    return pn.Column(*panels)"
      ],
      "metadata": {
        "id": "E2ABuJl4KKpz"
      },
      "execution_count": null,
      "outputs": []
    },
    {
      "cell_type": "code",
      "source": [
        "#Creating the system part of the prompt\n",
        "#Read and understand it.\n",
        "\n",
        "context = [ {'role':'system', 'content':\"\"\"\n",
        "You work collecting orders in a delivery IceCream shop called\n",
        "I'm freezed.\n",
        "\n",
        "First welcome the customer, in a very friedly way, then collects the order.\n",
        "\n",
        "Your instuctions are:\n",
        "-Collect the entire order, only from options in our menu, toppings included.\n",
        "-Summarize it\n",
        "-check for a final time if everithing is ok or the customer wants to add anything else.\n",
        "-collect the payment, be sure to include topings and the size of the ice cream.\n",
        "-Make sure to clarify all options, extras and sizes to uniquely\n",
        "identify the item from the menu.\n",
        "-Your answer should be short in a very friendly style.\n",
        "\n",
        "Our Menu:\n",
        "The IceCream menu includes only the flavors:\n",
        "-Vainilla.\n",
        "-Chocolate.\n",
        "-Lemon.\n",
        "-Strawberry.\n",
        "-Coffe.\n",
        "\n",
        "The IceCreams are available in two sizes:\n",
        "-Big: 3$\n",
        "-Medium: 2$\n",
        "\n",
        "Toppings:\n",
        "-Caramel sausage\n",
        "-White chocolate\n",
        "-melted peanut butter\n",
        "Each topping cost 0.5$\n",
        "\n",
        "\"\"\"} ]\n",
        "\n",
        "#Creating the panel.\n",
        "pn.extension()\n",
        "\n",
        "panels = []\n",
        "\n",
        "client_prompt = pn.widgets.TextInput(value=\"Hi\", placeholder='Enter text here…')\n",
        "button_conversation = pn.widgets.Button(name=\"talk\")\n",
        "\n",
        "interactive_conversation = pn.bind(add_prompts_conversation, button_conversation)\n",
        "\n",
        "dashboard = pn.Column(\n",
        "    client_prompt,\n",
        "    pn.Row(button_conversation),\n",
        "    pn.panel(interactive_conversation, loading_indicator=True, height=300),\n",
        ")\n",
        "\n",
        "dashboard"
      ],
      "metadata": {
        "id": "pEKPv2PjKU7K"
      },
      "execution_count": null,
      "outputs": []
    }
  ]
}